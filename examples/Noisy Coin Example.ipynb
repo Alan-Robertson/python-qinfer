{
 "cells": [
  {
   "cell_type": "markdown",
   "metadata": {},
   "source": [
    "# Noisy Coin Example"
   ]
  },
  {
   "cell_type": "markdown",
   "metadata": {},
   "source": [
    "## Introduction"
   ]
  },
  {
   "cell_type": "markdown",
   "metadata": {},
   "source": [
    "## Preamble"
   ]
  },
  {
   "cell_type": "markdown",
   "metadata": {},
   "source": [
    "We turn on the ``division`` feature first of all, since this is just a plain good idea when working in Python 2.x, as it is a more sensible default for scientific computing and is the default in Python 3.x anyway."
   ]
  },
  {
   "cell_type": "code",
   "execution_count": 1,
   "metadata": {
    "collapsed": false
   },
   "outputs": [],
   "source": [
    "from __future__ import division"
   ]
  },
  {
   "cell_type": "markdown",
   "metadata": {},
   "source": [
    "IPython's ``%matplotlib`` magic command is quite useful. With the ``inline`` argument, all plots will be made a part of the notebook."
   ]
  },
  {
   "cell_type": "code",
   "execution_count": 2,
   "metadata": {
    "collapsed": false
   },
   "outputs": [],
   "source": [
    "%matplotlib inline\n",
    "import matplotlib.pyplot as plt\n",
    "plt.style.use('ggplot')\n",
    "\n",
    "plt.rcParams['axes.labelsize'] = 20\n",
    "plt.rcParams['figure.figsize'] = 8, 8\n",
    "plt.rcParams['xtick.labelsize'] = 20\n",
    "plt.rcParams['ytick.labelsize'] = 20"
   ]
  },
  {
   "cell_type": "markdown",
   "metadata": {},
   "source": [
    "Next, we need to import from *Qinfer*."
   ]
  },
  {
   "cell_type": "code",
   "execution_count": 3,
   "metadata": {
    "collapsed": false
   },
   "outputs": [],
   "source": [
    "# We need distributions to model priors.\n",
    "from qinfer import distributions\n",
    "# The noisy coin model has already been implmented, so let's import it here.\n",
    "from qinfer.test_models import NoisyCoinModel\n",
    "# Next, we need to import the sequential Monte Carlo updater class.\n",
    "from qinfer.smc import SMCUpdater\n",
    "# We'll be demonstrating approximate likelihood evaluation (ALE) as well.\n",
    "from qinfer import ale"
   ]
  },
  {
   "cell_type": "code",
   "execution_count": 4,
   "metadata": {
    "collapsed": false
   },
   "outputs": [],
   "source": [
    "import numpy as np\n",
    "import time\n",
    "from scipy.special import betaln, gammaln"
   ]
  },
  {
   "cell_type": "markdown",
   "metadata": {},
   "source": [
    "## Sequential Monte Carlo"
   ]
  },
  {
   "cell_type": "markdown",
   "metadata": {},
   "source": [
    "It's helpful to define a few constants, as we'll need to refer to them over and over below."
   ]
  },
  {
   "cell_type": "code",
   "execution_count": 11,
   "metadata": {
    "collapsed": false
   },
   "outputs": [],
   "source": [
    "N_PARTICLES = 5000\n",
    "N_EXP = 250\n",
    "N_TRIALS = 100"
   ]
  },
  {
   "cell_type": "markdown",
   "metadata": {},
   "source": [
    "Let's make a model to play with, using the prior $p \\sim \\mathrm{Uni}(0, 1)$."
   ]
  },
  {
   "cell_type": "code",
   "execution_count": 12,
   "metadata": {
    "collapsed": false
   },
   "outputs": [],
   "source": [
    "prior = distributions.UniformDistribution([0, 1])\n",
    "model = NoisyCoinModel()"
   ]
  },
  {
   "cell_type": "markdown",
   "metadata": {},
   "source": [
    "We need to allocate an array to hold performance data. A record array is a rather convienent structure for doing so. First, let's define the fields in this array,"
   ]
  },
  {
   "cell_type": "code",
   "execution_count": 13,
   "metadata": {
    "collapsed": false
   },
   "outputs": [],
   "source": [
    "performance_dtype = [\n",
    "    ('outcome', 'i1'),\n",
    "    ('est_mean', 'f8'), ('est_cov_mat', 'f8'),\n",
    "    ('true_err', 'f8'), ('resample_count', 'i8'),\n",
    "    ('elapsed_time', 'f8'),\n",
    "    ('like_count', 'i8'), ('sim_count', 'i8'),\n",
    "]"
   ]
  },
  {
   "cell_type": "markdown",
   "metadata": {},
   "source": [
    "... and then the array itself."
   ]
  },
  {
   "cell_type": "code",
   "execution_count": 14,
   "metadata": {
    "collapsed": false
   },
   "outputs": [],
   "source": [
    "performance = np.empty((N_TRIALS, N_EXP), dtype=performance_dtype)"
   ]
  },
  {
   "cell_type": "code",
   "execution_count": 15,
   "metadata": {
    "collapsed": false
   },
   "outputs": [],
   "source": [
    "true_params = np.empty((N_TRIALS, model.n_modelparams))"
   ]
  },
  {
   "cell_type": "markdown",
   "metadata": {},
   "source": [
    "Now, we run the experiments!"
   ]
  },
  {
   "cell_type": "code",
   "execution_count": 16,
   "metadata": {
    "collapsed": false
   },
   "outputs": [],
   "source": [
    "ALPHA = 0.1\n",
    "BETA = 0.8\n",
    "expparams = np.array([(ALPHA, BETA)], dtype=model.expparams_dtype)"
   ]
  },
  {
   "cell_type": "code",
   "execution_count": 17,
   "metadata": {
    "collapsed": false
   },
   "outputs": [],
   "source": [
    "for idx_trial in range(N_TRIALS):\n",
    "    \n",
    "    # First, make new updaters using the constructors\n",
    "    # defined above.\n",
    "    updater = SMCUpdater(model, N_PARTICLES, prior)\n",
    "    \n",
    "    # Sample true set of modelparams.\n",
    "    truemp = prior.sample()\n",
    "    true_params[idx_trial, :] = truemp\n",
    "\n",
    "    # Now loop over experiments, updating each of the\n",
    "    # updaters with the same data, so that we can compare\n",
    "    # their estimation performance.\n",
    "    for idx_exp in range(N_EXP):\n",
    "        \n",
    "        # Make a short hand for indexing the current simulation\n",
    "        # and experiment.\n",
    "        idxs = np.s_[idx_trial, idx_exp]\n",
    "        \n",
    "        # Start by simulating and recording the data.\n",
    "        outcome = model.simulate_experiment(truemp, expparams)\n",
    "        performance['outcome'][idxs] = outcome\n",
    "    \n",
    "        # Reset the like_count and sim_count\n",
    "        # properties so that we can count how many were used\n",
    "        # by this update. Note that this is a hack;\n",
    "        # an appropriate method should be added to\n",
    "        # Simulatable.\n",
    "        model._sim_count = 0\n",
    "        model._call_count = 0\n",
    "            \n",
    "        # Time the actual update.\n",
    "        tic = toc = None\n",
    "        tic = time.time()\n",
    "        updater.update(outcome, expparams)\n",
    "        performance[idxs]['elapsed_time'] = time.time() - tic\n",
    "        \n",
    "        # Record the performance of this updater.\n",
    "        est_mean = updater.est_mean()\n",
    "        performance[idxs]['est_mean'] = est_mean\n",
    "        performance[idxs]['true_err'] = np.abs(est_mean - truemp) ** 2\n",
    "        performance[idxs]['est_cov_mat'] = updater.est_covariance_mtx()\n",
    "        performance[idxs]['resample_count'] = updater.resample_count\n",
    "        performance[idxs]['like_count'] = model.call_count\n",
    "        performance[idxs]['sim_count'] = model.sim_count\n",
    "       "
   ]
  },
  {
   "cell_type": "code",
   "execution_count": 19,
   "metadata": {
    "collapsed": false
   },
   "outputs": [
    {
     "data": {
      "text/plain": [
       "[<matplotlib.lines.Line2D at 0x1e314808940>]"
      ]
     },
     "execution_count": 19,
     "metadata": {},
     "output_type": "execute_result"
    },
    {
     "data": {
      "image/png": "[encoded data removed]",
      "text/plain": [
       "<matplotlib.figure.Figure at 0x1e31474f908>"
      ]
     },
     "metadata": {},
     "output_type": "display_data"
    }
   ],
   "source": [
    "plt.semilogy(np.mean(performance['true_err'], axis=0))\n"
   ]
  },
  {
   "cell_type": "code",
   "execution_count": null,
   "metadata": {
    "collapsed": true
   },
   "outputs": [],
   "source": []
  }
 ],
 "metadata": {
  "kernelspec": {
   "display_name": "Python 3",
   "language": "python",
   "name": "python3"
  },
  "language_info": {
   "codemirror_mode": {
    "name": "ipython",
    "version": 3
   },
   "file_extension": ".py",
   "mimetype": "text/x-python",
   "name": "python",
   "nbconvert_exporter": "python",
   "pygments_lexer": "ipython3",
   "version": "3.5.1"
  }
 },
 "nbformat": 4,
 "nbformat_minor": 0
}
