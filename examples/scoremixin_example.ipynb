{
 "metadata": {
  "name": ""
 },
 "nbformat": 3,
 "nbformat_minor": 0,
 "worksheets": [
  {
   "cells": [
    {
     "cell_type": "code",
     "collapsed": false,
     "input": [
      "%pylab inline"
     ],
     "language": "python",
     "metadata": {},
     "outputs": [
      {
       "output_type": "stream",
       "stream": "stdout",
       "text": [
        "Populating the interactive namespace from numpy and matplotlib\n"
       ]
      }
     ],
     "prompt_number": 1
    },
    {
     "cell_type": "code",
     "collapsed": false,
     "input": [
      "from qinfer.test_models import SimplePrecessionModel\n",
      "import qinfer.score as score\n",
      "import numpy as np"
     ],
     "language": "python",
     "metadata": {},
     "outputs": [],
     "prompt_number": 2
    },
    {
     "cell_type": "heading",
     "level": 5,
     "metadata": {},
     "source": [
      "Create two models, one that uses ScoreMixin's numerical score method, and one that uses SimplePrecessionModel's analytic score method"
     ]
    },
    {
     "cell_type": "code",
     "collapsed": false,
     "input": [
      "class NumericalSimplePrecessionModel(score.ScoreMixin, SimplePrecessionModel):\n",
      "    pass\n",
      "\n",
      "analytic_model = SimplePrecessionModel()\n",
      "numerical_model = NumericalSimplePrecessionModel()\n",
      "\n",
      "expparams = np.linspace(1, 10, 50)\n",
      "modelparams = np.linspace(.1,1,50)"
     ],
     "language": "python",
     "metadata": {},
     "outputs": [],
     "prompt_number": 3
    },
    {
     "cell_type": "heading",
     "level": 5,
     "metadata": {},
     "source": [
      "Verify that both models compute the same score"
     ]
    },
    {
     "cell_type": "code",
     "collapsed": false,
     "input": [
      "analytic_score = analytic_model.score(np.array([0],dtype=int),modelparams, expparams)[0,0,...]\n",
      "numerical_score = numerical_model.score(np.array([0],dtype=int),modelparams, expparams)[0,0,...]\n",
      "\n",
      "plt.subplot(1,2,1)\n",
      "plt.imshow(analytic_score)\n",
      "plt.subplot(1,2,2)\n",
      "plt.imshow(numerical_score)"
     ],
     "language": "python",
     "metadata": {},
     "outputs": [
      {
       "metadata": {},
       "output_type": "pyout",
       "prompt_number": 15,
       "text": [
        "<matplotlib.image.AxesImage at 0x7f0d12a96810>"
       ]
      },
      {
       "metadata": {},
       "output_type": "display_data",
       "png": "[encoded data removed]",
       "text": [
        "<matplotlib.figure.Figure at 0x7f0d12ae02d0>"
       ]
      }
     ],
     "prompt_number": 15
    },
    {
     "cell_type": "heading",
     "level": 5,
     "metadata": {},
     "source": [
      "Verify that both models give the same fisher info"
     ]
    },
    {
     "cell_type": "code",
     "collapsed": false,
     "input": [
      "analytic_fisher_info = analytic_model.fisher_information(modelparams, expparams)[0,0,...]\n",
      "numerical_fisher_info = numerical_model.fisher_information(modelparams, expparams)[0,0,...]\n",
      "\n",
      "plt.subplot(1,2,1)\n",
      "plt.imshow(analytic_fisher_info)\n",
      "plt.subplot(1,2,2)\n",
      "plt.imshow(numerical_fisher_info)"
     ],
     "language": "python",
     "metadata": {},
     "outputs": [
      {
       "metadata": {},
       "output_type": "pyout",
       "prompt_number": 14,
       "text": [
        "<matplotlib.image.AxesImage at 0x7f0d12bd3210>"
       ]
      },
      {
       "metadata": {},
       "output_type": "display_data",
       "png": "[encoded data removed]",
       "text": [
        "<matplotlib.figure.Figure at 0x7f0d12cd30d0>"
       ]
      }
     ],
     "prompt_number": 14
    }
   ],
   "metadata": {}
  }
 ]
}